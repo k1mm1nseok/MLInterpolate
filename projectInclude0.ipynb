{
 "cells": [
  {
   "cell_type": "code",
   "execution_count": 68,
   "metadata": {},
   "outputs": [],
   "source": [
    "import pandas as pd\n",
    "\n",
    "\n",
    "data = pd.read_excel(\"./Train_dataset.xlsx\")"
   ]
  },
  {
   "cell_type": "code",
   "execution_count": 4,
   "metadata": {},
   "outputs": [
    {
     "name": "stdout",
     "output_type": "stream",
     "text": [
      "         Time    Power\n",
      "0  20180101_0  105.760\n",
      "1  20180101_1  104.944\n",
      "2  20180101_2  105.552\n",
      "3  20180101_3  108.512\n",
      "4  20180101_4  102.896\n"
     ]
    }
   ],
   "source": [
    "print(data.head())"
   ]
  },
  {
   "cell_type": "code",
   "execution_count": null,
   "metadata": {},
   "outputs": [],
   "source": [
    "import matplotlib.pyplot as plt\n",
    "\n",
    "print('최대 사용 전력 : {}'.format(data['Power'].max()))\n",
    "print('최소 사용 전력 : {}'.format(data['Power'].min()))\n",
    "print('평균 사용 전력 : {}'.format(data['Power'].mean()))\n",
    "print('표준편차 사용 전력 : {}'.format(data['Power'].std()))\n",
    "print('1분위 사용 전력 : {}'.format(np.percentile(data['Power'], 25)))\n",
    "print('3분위 사용 전력 : {}'.format(np.percentile(data['Power'], 75)))\n",
    "\n",
    "plt.figure(figsize=(10,20))\n",
    "plt.plot(data['Power'], data['Time'])"
   ]
  }
 ],
 "metadata": {
  "kernelspec": {
   "display_name": "base",
   "language": "python",
   "name": "python3"
  },
  "language_info": {
   "codemirror_mode": {
    "name": "ipython",
    "version": 3
   },
   "file_extension": ".py",
   "mimetype": "text/x-python",
   "name": "python",
   "nbconvert_exporter": "python",
   "pygments_lexer": "ipython3",
   "version": "3.9.0"
  },
  "orig_nbformat": 4,
  "vscode": {
   "interpreter": {
    "hash": "a077222d77dfe082b8f1dd562ad70e458ac2ab76993a0b248ab0476e32e9e8dd"
   }
  }
 },
 "nbformat": 4,
 "nbformat_minor": 2
}
